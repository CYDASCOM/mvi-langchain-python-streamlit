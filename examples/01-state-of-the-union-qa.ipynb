{
  "cells": [
    {
      "cell_type": "markdown",
      "metadata": {
        "id": "C87H41eUW4n0"
      },
      "source": [
        "# State of the Union question answering example\n",
        "\n",
        "This notebook demonstrates how to use the Momento Vector Index langchain integration to answer questions about President Joe Biden's 2023 the State of the Union address. We demonstrate how to load a dataset, index it into Momento Vector Index, run a simple query, and how make a full-fledged question answering system."
      ]
    },
    {
      "cell_type": "markdown",
      "metadata": {
        "id": "srHKwyTCW4n1"
      },
      "source": [
        "# Setup\n",
        "\n",
        "Before we begin, we need to read our API tokens from the environment. There are two required:\n",
        "- `MOMENTO_AUTH_TOKEN`: This is your Momento API token. You can get one by signing up at https://console.gomomento.com.\n",
        "- `OPENAI_API_KEY`: This is your OpenAI API key. You can get one by signing up at https://openai.com.\n",
        "\n",
        "You can store these in a `.env` file, in your environment, or set them directly here. We use dotenv to read the values from a `.env` file."
      ]
    },
    {
      "cell_type": "code",
      "execution_count": null,
      "metadata": {
        "id": "GY-ZLgFiW4n1"
      },
      "outputs": [],
      "source": [
        "%load_ext dotenv\n",
        "%dotenv"
      ]
    },
    {
      "cell_type": "code",
      "execution_count": null,
      "metadata": {
        "id": "c3VkO0aYW4n2"
      },
      "outputs": [],
      "source": [
        "import os\n",
        "\n",
        "# Can set the environment variables directly here if you don't want to use a .env file:\n",
        "# os.environ[\"MOMENTO_AUTH_TOKEN\"] = \"<your token here>\"\n",
        "# os.environ[\"OPENAI_API_KEY\"] = \"<your key here>\"\n",
        "\n",
        "# check the environment variables are set\n",
        "if os.environ.get('MOMENTO_AUTH_TOKEN') is None:\n",
        "    raise ValueError(\"MOMENTO_AUTH_TOKEN is not set\")\n",
        "\n",
        "if os.environ.get('OPENAI_API_KEY') is None:\n",
        "    raise ValueError(\"OPENAI_API_KEY is not set\")"
      ]
    },
    {
      "cell_type": "markdown",
      "metadata": {
        "id": "b1mKmoUBW4n2"
      },
      "source": [
        "We'll import the libraries we need to data loading, indexing, and querying."
      ]
    },
    {
      "cell_type": "code",
      "execution_count": null,
      "metadata": {
        "id": "FHca2n0pW4n2"
      },
      "outputs": [],
      "source": [
        "# For setting up the Momento Vector Index and langchain Vector Store\n",
        "from mvi_langchain import MomentoVectorIndex\n",
        "from momento import VectorIndexConfigurations, CredentialProvider\n",
        "from langchain.embeddings.openai import OpenAIEmbeddings\n",
        "\n",
        "# For reading data and chunking it into smaller segments\n",
        "from langchain.document_loaders import TextLoader\n",
        "from langchain.text_splitter import CharacterTextSplitter\n",
        "\n",
        "# For doing QA\n",
        "from langchain.chains import RetrievalQA\n",
        "from langchain.chat_models import ChatOpenAI\n"
      ]
    },
    {
      "cell_type": "markdown",
      "metadata": {
        "id": "z4mL-jWbW4n2"
      },
      "source": [
        "# Load the data"
      ]
    },
    {
      "cell_type": "markdown",
      "metadata": {
        "id": "zVBRHK9yW4n2"
      },
      "source": [
        "Load a dataset and chunk it into smaller pieces for question answering.\n",
        "\n",
        "Here we use the State of the Union transcript. You can substitute in your dataset of choice. Explore the langchain document loaders for a rich ecosystem of ingestors."
      ]
    },
    {
      "cell_type": "code",
      "execution_count": null,
      "metadata": {
        "id": "ivIS8OwwW4n2"
      },
      "outputs": [],
      "source": [
        "raw_documents = TextLoader('data/sample').load()\n",
        "text_splitter = CharacterTextSplitter(chunk_size=1000, chunk_overlap=0)\n",
        "documents = text_splitter.split_documents(raw_documents)"
      ]
    },
    {
      "cell_type": "code",
      "execution_count": null,
      "metadata": {
        "id": "ZlCdA1UeW4n2",
        "outputId": "fa6ab7d1-4efb-44b5-b753-637906577862"
      },
      "outputs": [
        {
          "data": {
            "text/plain": [
              "1"
            ]
          },
          "execution_count": 5,
          "metadata": {},
          "output_type": "execute_result"
        }
      ],
      "source": [
        "len(raw_documents)"
      ]
    },
    {
      "cell_type": "code",
      "execution_count": null,
      "metadata": {
        "id": "3o6knHssW4n3",
        "outputId": "a9b77539-8c45-4d1f-f280-c8ce49bbd4d4"
      },
      "outputs": [
        {
          "data": {
            "text/plain": [
              "'The United States Capitol\\n\\nMr. Speaker. Madam Vice President. Our First Lady and Second Gentleman.\\n\\nMembers of Congress and the Cabinet. Leaders of our military.\\n\\nMr. Chief Justice, Associate Justices, and retired Justices of the Supreme Court.\\n\\nAnd you, my fellow Americans.\\n\\nI start tonight by congratulating the members of the 118th Congress and the new Speaker of the House, Kevin McCarthy.\\n\\nMr. Speaker, I look forward to working together.\\n\\nI also want to congratulate the new leader of the Hous'"
            ]
          },
          "execution_count": 6,
          "metadata": {},
          "output_type": "execute_result"
        }
      ],
      "source": [
        "raw_documents[0].page_content[:500]"
      ]
    },
    {
      "cell_type": "markdown",
      "metadata": {
        "id": "S22eyHplW4n3"
      },
      "source": [
        "# Index the document chunks into MVI\n",
        "\n",
        "We will use OpenAI to generate text embeddings. We will create an index called \"sample-text\" in Momento Vector Index to store the embeddings and metadata.\n",
        "\n",
        "First we instantiate the Momento Vector Index langchain vector store:"
      ]
    },
    {
      "cell_type": "code",
      "execution_count": null,
      "metadata": {
        "id": "m0z1Xf69W4n3"
      },
      "outputs": [],
      "source": [
        "db = MomentoVectorIndex(embedding_function=OpenAIEmbeddings(),\n",
        "    configuration=VectorIndexConfigurations.Default.latest(),\n",
        "    credential_provider=CredentialProvider.from_environment_variable(\"MOMENTO_AUTH_TOKEN\"),\n",
        "    index_name=\"sample-text\")"
      ]
    },
    {
      "cell_type": "markdown",
      "metadata": {
        "id": "zDXK55XWW4n3"
      },
      "source": [
        "Then we index the document chunks into the vector store:"
      ]
    },
    {
      "cell_type": "code",
      "execution_count": null,
      "metadata": {
        "id": "5sPwW60CW4n3"
      },
      "outputs": [],
      "source": [
        "_ = db.add_documents(documents=documents, ids=[f\"sotu-chunk-{i}\" for i in range(len(documents))])"
      ]
    },
    {
      "cell_type": "markdown",
      "metadata": {
        "id": "Aw-I8-jVW4n3"
      },
      "source": [
        "We could have also created the db with `MomentoVectorIndex.from_documents`, combining the two steps into one."
      ]
    },
    {
      "cell_type": "markdown",
      "metadata": {
        "id": "950wDmt0W4n3"
      },
      "source": [
        "We can search directly against the index to get an idea of the document fragments that match the question. Note that the fragments:\n",
        "- possible contain the answer to the question;\n",
        "- possibly do not; and\n",
        "- usually contain irrelevant information.\n",
        "\n",
        "We will improve the user experience in the step after this."
      ]
    },
    {
      "cell_type": "code",
      "execution_count": null,
      "metadata": {
        "id": "MlAAgEdcW4n3",
        "outputId": "1be7460e-2feb-48b7-c537-8a93d3c09e65"
      },
      "outputs": [
        {
          "data": {
            "text/plain": [
              "2"
            ]
          },
          "execution_count": 9,
          "metadata": {},
          "output_type": "execute_result"
        }
      ],
      "source": [
        "docs = db.similarity_search(\"What did the president say about small business?\", k=2)\n",
        "len(docs)"
      ]
    },
    {
      "cell_type": "code",
      "execution_count": null,
      "metadata": {
        "id": "poTKj7ihW4n3",
        "outputId": "4c4ace99-5f10-4506-b81f-3bb44adc6de1"
      },
      "outputs": [
        {
          "name": "stdout",
          "output_type": "stream",
          "text": [
            "Here at home, gas prices are down $1.50 a gallon since their peak.\n",
            "\n",
            "Food inflation is coming down.\n",
            "\n",
            "Inflation has fallen every month for the last six months while take home pay has gone up.\n",
            "\n",
            "Additionally, over the last two years, a record 10 million Americans applied to start a new small business.\n",
            "\n",
            "Every time somebody starts a small business, it’s an act of hope.\n",
            "\n",
            "And the Vice President will continue her work to ensure more small businesses can access capital and the historic laws we enacted.\n",
            "\n",
            "Standing here last year, I shared with you a story of American genius and possibility.\n",
            "\n",
            "Semiconductors, the small computer chips the size of your fingertip that power everything from cellphones to automobiles, and so much more. These chips were invented right here in America.\n",
            "\n",
            "America used to make nearly 40% of the world’s chips.\n",
            "\n",
            "But in the last few decades, we lost our edge and we’re down to producing only 10%. We all saw what happened during the pandemic when chip factories overseas shut down.\n"
          ]
        }
      ],
      "source": [
        "print(docs[0].page_content)"
      ]
    },
    {
      "cell_type": "code",
      "execution_count": null,
      "metadata": {
        "id": "gmDuiYlqW4n3",
        "outputId": "4ffe7b66-555b-4bb0-b243-a16fbe2c2ef7"
      },
      "outputs": [
        {
          "name": "stdout",
          "output_type": "stream",
          "text": [
            "Buy American has been the law of the land since 1933. But for too long, past administrations have found ways to get around it.\n",
            "\n",
            "Not anymore.\n",
            "\n",
            "Tonight, I’m also announcing new standards to require all construction materials used in federal infrastructure projects to be made in America.\n",
            "\n",
            "American-made lumber, glass, drywall, fiber optic cables.\n",
            "\n",
            "And on my watch, American roads, American bridges, and American highways will be made with American products.\n",
            "\n",
            "My economic plan is about investing in places and people that have been forgotten. Amid the economic upheaval of the past four decades, too many people have been left behind or treated like they’re invisible.\n",
            "\n",
            "Maybe that’s you, watching at home.\n",
            "\n",
            "You remember the jobs that went away. And you wonder whether a path even exists anymore for you and your children to get ahead without moving away.\n",
            "\n",
            "I get it.\n",
            "\n",
            "That’s why we’re building an economy where no one is left behind.\n"
          ]
        }
      ],
      "source": [
        "print(docs[1].page_content)"
      ]
    },
    {
      "cell_type": "markdown",
      "metadata": {
        "id": "l2Lslt1MW4n3"
      },
      "source": [
        "# Use a QA chain to generate fluent answers\n",
        "\n",
        "Here we add on to the above example by using a special prompt to generate fluent answers. We use the `RetrievalQA` chain from langchain, which is a simple question answering workflow.\n",
        "\n",
        "It uses the following steps:\n",
        "- retrieval: Retrieve the top `k` documents from the index.\n",
        "- question answering: Use a question answering prompt to generate an answer from the original query and retrieved documents."
      ]
    },
    {
      "cell_type": "code",
      "execution_count": null,
      "metadata": {
        "id": "K3uX8iJgW4n3"
      },
      "outputs": [],
      "source": [
        "llm = ChatOpenAI(model_name=\"gpt-3.5-turbo\", temperature=0)\n",
        "qa_chain = RetrievalQA.from_chain_type(llm, retriever=db.as_retriever())"
      ]
    },
    {
      "cell_type": "code",
      "execution_count": null,
      "metadata": {
        "id": "VQ7yWKWDW4n3",
        "outputId": "d7d8be79-064b-4f77-fccd-69b5084480bb"
      },
      "outputs": [
        {
          "data": {
            "text/plain": [
              "{'query': 'What did the president say about small business?',\n",
              " 'result': \"The President mentioned that over the last two years, a record 10 million Americans applied to start a new small business. He also emphasized that every time somebody starts a small business, it's an act of hope. The Vice President will continue her work to ensure more small businesses can access capital and the historic laws they enacted.\"}"
            ]
          },
          "execution_count": 13,
          "metadata": {},
          "output_type": "execute_result"
        }
      ],
      "source": [
        "qa_chain({\"query\": \"What did the president say about small business?\"})"
      ]
    },
    {
      "cell_type": "code",
      "execution_count": null,
      "metadata": {
        "id": "qeyWyTcsW4n4",
        "outputId": "a386f9be-da1c-434b-fc76-35ebca952c05"
      },
      "outputs": [
        {
          "data": {
            "text/plain": [
              "{'query': 'What did the president say about credit card fees?',\n",
              " 'result': 'The president said that they have reduced credit card late fees by 75%, from $30 to $8.'}"
            ]
          },
          "execution_count": 14,
          "metadata": {},
          "output_type": "execute_result"
        }
      ],
      "source": [
        "qa_chain({\"query\": \"What did the president say about credit card fees?\"})"
      ]
    },
    {
      "cell_type": "markdown",
      "metadata": {
        "id": "-hxj6kNjW4n4"
      },
      "source": [
        "# Cleanup"
      ]
    },
    {
      "cell_type": "code",
      "execution_count": null,
      "metadata": {
        "id": "McjAFcQeW4n4",
        "outputId": "e9cbdcad-fec7-49e6-d4e9-4ae75191a8b0"
      },
      "outputs": [
        {
          "data": {
            "text/plain": [
              "DeleteIndex.Success()"
            ]
          },
          "execution_count": 15,
          "metadata": {},
          "output_type": "execute_result"
        }
      ],
      "source": [
        "db._client.delete_index(index_name=\"sample-text\")"
      ]
    }
  ],
  "metadata": {
    "kernelspec": {
      "display_name": ".venv",
      "language": "python",
      "name": "python3"
    },
    "language_info": {
      "codemirror_mode": {
        "name": "ipython",
        "version": 3
      },
      "file_extension": ".py",
      "mimetype": "text/x-python",
      "name": "python",
      "nbconvert_exporter": "python",
      "pygments_lexer": "ipython3",
      "version": "3.11.4"
    },
    "orig_nbformat": 4,
    "colab": {
      "provenance": []
    }
  },
  "nbformat": 4,
  "nbformat_minor": 0
}